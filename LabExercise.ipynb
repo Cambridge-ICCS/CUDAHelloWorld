{
 "cells": [
  {
   "cell_type": "markdown",
   "id": "0123dfc8-f75f-4d09-8663-6e4db4bb6d03",
   "metadata": {},
   "source": [
    "# About\n",
    "\n",
    "*by Dr Paul Richmond ([ICCS](https://iccs.cam.ac.uk/) Engineering Lead at University of Cambridge)*\n",
    "\n",
    "This is an \"Introduction to CUDA\" lab designed to be executed inside a Jupyter notebook. It follows on from a series of lectures. You can use the notebook functionality to edit files and run code cells.\n",
    "\n",
    "Some hints are provided in hidden markdown cells. If you are struggling with a particular exercise then click the three dots \"...\" to show the hint (if one is available).\n"
   ]
  },
  {
   "cell_type": "markdown",
   "id": "6a030349-e553-4493-a614-b0ba055af7e1",
   "metadata": {
    "jupyter": {
     "source_hidden": true
    },
    "tags": []
   },
   "source": [
    "*Note: If you are running this lab on Google Colab then you will need to run the following code cell to obtain the source files.*"
   ]
  },
  {
   "cell_type": "code",
   "execution_count": null,
   "id": "8181914a-18fd-4e1a-a268-201ba5b0b2d7",
   "metadata": {
    "jupyter": {
     "source_hidden": true
    },
    "tags": []
   },
   "outputs": [],
   "source": [
    "!git init .\n",
    "!git remote add -f origin https://github.com/Cambridge-ICCS/CUDAHelloWorld.git\n",
    "!git checkout main"
   ]
  },
  {
   "cell_type": "markdown",
   "id": "1a03f3b5-705c-402b-b082-b3e80342feb2",
   "metadata": {},
   "source": [
    "## Hello World for GPUs\n",
    "\n",
    "You can navigate the files within this repository from the file browser which is built into jupter-lab. It is shown on the left. Different files can be open in tabs and you can switch between then. Open the [`helloworld.cu`](./helloworld.cu) file (by clicking on the file name or finding it in the file explorere) to edit it in the browser.\n",
    "\n",
    "You can compile and execute code from within code cells of the notebook or you can open a Terminal and type the compile and execute commands yourself (from the menu system of jupyter-lab select *File -> New -> Terminal*) . To clear all outputs of the notebook in jupyter-lab, go to menu and select *Kernel -> Restart Kernel and Clear Output of all Cells*. \n",
    "\n",
    "The cell below will compile the [`helloworld.cu`](./helloworld.cu) source file. "
   ]
  },
  {
   "cell_type": "code",
   "execution_count": null,
   "id": "5c84970a-0876-4111-957f-e6bf3add6bb7",
   "metadata": {
    "tags": []
   },
   "outputs": [],
   "source": [
    "!nvcc helloworld.cu -o helloworld"
   ]
  },
  {
   "cell_type": "markdown",
   "id": "97505a66-e58c-4259-9cd8-dd8596c3584a",
   "metadata": {},
   "source": [
    "Assuming there are no errors, your code will be built and you will have a new executable file in the working directory. The cell below will execute the program."
   ]
  },
  {
   "cell_type": "code",
   "execution_count": null,
   "id": "dc3e050b-51b1-41db-b189-e69c2898d725",
   "metadata": {
    "tags": []
   },
   "outputs": [],
   "source": [
    "!./helloworld"
   ]
  },
  {
   "cell_type": "markdown",
   "id": "f3e6ccc6-fc90-4bd8-bd09-9c51edfe3f1b",
   "metadata": {},
   "source": [
    "This should produce the following output\n",
    "\n",
    "```\n",
    "Hello World from Thread 0\n",
    "Hello World from Thread 1\n",
    "Hello World from Thread 2\n",
    "Hello World from Thread 3\n",
    "Hello World from Thread 4\n",
    "Hello World from Thread 5\n",
    "Hello World from Thread 6\n",
    "Hello World from Thread 7\n",
    "Hello World from Thread 8\n",
    "Hello World from Thread 9\n",
    "```\n"
   ]
  },
  {
   "cell_type": "markdown",
   "id": "eb94f3a3-0e03-42d8-aaf0-f1604c25bcee",
   "metadata": {},
   "source": [
    "## Modifying the Hello Word Example\n",
    "\n",
    "Before moving onto the first lab classes, try modifying the grid and block dimensions in [`helloworld.cu`](./helloworld.cu)  to see how the thread index changes. Try using more than one block and add the block index (from `blockIdx.x`) to the `printf` statement. If you want to use 2D or 3D blocks then use a `dim3` variable to define the grid and block size. E.g.\n",
    "\n",
    "```\n",
    "dim3 grid(2, 2, 1);\n",
    "dim3 block(3,3, 1);\n",
    "```\n",
    "\n",
    "You can now launch your kernel using these dim variables.\n",
    "\n",
    "```\n",
    "helloworld<<<grid, block>>>();\n",
    "```\n",
    "\n",
    "To view the y and z index of the thread or the block use the y and z member variables of the `threadIdx` or `blockIdx` dims."
   ]
  },
  {
   "cell_type": "code",
   "execution_count": null,
   "id": "49fc0c55-fd03-4959-b44a-713955537cd9",
   "metadata": {},
   "outputs": [],
   "source": []
  }
 ],
 "metadata": {
  "kernelspec": {
   "display_name": "Python 3 (ipykernel)",
   "language": "python",
   "name": "python3"
  },
  "language_info": {
   "codemirror_mode": {
    "name": "ipython",
    "version": 3
   },
   "file_extension": ".py",
   "mimetype": "text/x-python",
   "name": "python",
   "nbconvert_exporter": "python",
   "pygments_lexer": "ipython3",
   "version": "3.9.16"
  }
 },
 "nbformat": 4,
 "nbformat_minor": 5
}
